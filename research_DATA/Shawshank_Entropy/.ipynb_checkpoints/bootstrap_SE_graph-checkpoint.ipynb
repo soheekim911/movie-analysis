{
 "cells": [
  {
   "cell_type": "code",
   "execution_count": 52,
   "metadata": {},
   "outputs": [],
   "source": [
    "import numpy as np\n",
    "import pandas as pd\n",
    "from matplotlib import pyplot as plt\n",
    "import csv"
   ]
  },
  {
   "cell_type": "code",
   "execution_count": 53,
   "metadata": {
    "scrolled": true
   },
   "outputs": [
    {
     "name": "stdout",
     "output_type": "stream",
     "text": [
      "             0            1            2            3            4  \\\n",
      "9  entropy_sum  1.298028801  1.539851181  0.848361823  1.189740519   \n",
      "\n",
      "             5            6            7            8            9  \n",
      "9  1.527549508  1.026463944  0.979018094  1.636059322  1.319936042  \n",
      "  character  bootstrap_se\n",
      "0      Andy      0.011239\n",
      "1      Bogs      0.042651\n",
      "2    Norton      0.033749\n",
      "3       Red      0.021863\n",
      "4    Brooks      0.065094\n",
      "5     Tommy      0.060970\n",
      "6     Skeet      0.090627\n",
      "7   Heywood      0.029958\n",
      "8        DA      0.031086\n"
     ]
    }
   ],
   "source": [
    "path = '/Users/sohee/Documents/research_DATA/Shawshank_Entropy/'\n",
    "original_data = pd.read_csv(path + 'shawshank_FER_entropy.csv', header=None).iloc[9:10]\n",
    "original_entropy = pd.DataFrame(original_data )\n",
    "# original_entropy.pivot()\n",
    "\n",
    "entropy_se = pd.read_csv(path +'shawshank_entropy_bootstrap_SE.csv')\n",
    "# entropy_se = np.genfromtxt(path +'shawshank_entropy_bootstrap_SE.csv', delimiter=',')\n",
    "\n",
    "print(original_entropy)\n",
    "print(entropy_se)"
   ]
  },
  {
   "cell_type": "code",
   "execution_count": 54,
   "metadata": {},
   "outputs": [
    {
     "name": "stdout",
     "output_type": "stream",
     "text": [
      "[1.298028801, 1.189740519, 0.848361823, 1.636059322, 1.026463944, 1.319936042, 1.539851181, 1.527549508, 0.979018094]\n",
      "[0.01123919 0.02186315 0.03374948 0.02995833 0.06097029 0.03108638\n",
      " 0.04265113 0.06509358 0.09062665]\n"
     ]
    }
   ],
   "source": [
    "x = entropy_se['character'].tolist()\n",
    "x = ['Andy', 'Red', 'Norton', 'Heywood', 'Tommy', 'DA','Bogs', 'Brooks', 'Skeet']\n",
    "y = original_entropy.iloc[0][1:].tolist()\n",
    "y = list(map(float, y))\n",
    "y = [1.298028801,1.189740519,0.848361823,1.636059322,1.026463944,1.319936042,1.539851181,1.527549508,0.979018094]\n",
    "print(y)\n",
    "\n",
    "error = np.array(entropy_se['bootstrap_se'].tolist())\n",
    "error = np.array([0.01123919,0.021863146,0.033749479,0.029958328,0.060970289,0.031086376,0.042651128,0.065093577,0.090626645])\n",
    "print(error)"
   ]
  },
  {
   "cell_type": "code",
   "execution_count": 55,
   "metadata": {},
   "outputs": [
    {
     "data": {
      "image/png": "[encoded data removed]",
      "text/plain": [
       "<matplotlib.figure.Figure at 0x119890630>"
      ]
     },
     "metadata": {},
     "output_type": "display_data"
    }
   ],
   "source": [
    "axes = plt.gca()\n",
    "axes.set_ylim([0.5,1.8])\n",
    "\n",
    "plt.errorbar(x, y, yerr=1.96*error, fmt='o', capsize=4)\n",
    "plt.show()"
   ]
  },
  {
   "cell_type": "code",
   "execution_count": 64,
   "metadata": {},
   "outputs": [
    {
     "ename": "AttributeError",
     "evalue": "'list' object has no attribute 'set_index'",
     "output_type": "error",
     "traceback": [
      "\u001b[0;31m----------------------------------------------------------------------\u001b[0m",
      "\u001b[0;31mAttributeError\u001b[0m                       Traceback (most recent call last)",
      "\u001b[0;32m<ipython-input-64-d3af2924ad03>\u001b[0m in \u001b[0;36m<module>\u001b[0;34m()\u001b[0m\n\u001b[1;32m      5\u001b[0m \u001b[0mplt\u001b[0m\u001b[0;34m.\u001b[0m\u001b[0mxlabel\u001b[0m\u001b[0;34m(\u001b[0m\u001b[0;34m'Character'\u001b[0m\u001b[0;34m,\u001b[0m \u001b[0msize\u001b[0m\u001b[0;34m=\u001b[0m\u001b[0;36m15\u001b[0m\u001b[0;34m)\u001b[0m\u001b[0;34m\u001b[0m\u001b[0m\n\u001b[1;32m      6\u001b[0m \u001b[0mplt\u001b[0m\u001b[0;34m.\u001b[0m\u001b[0mylabel\u001b[0m\u001b[0;34m(\u001b[0m\u001b[0;34m'Entropy'\u001b[0m\u001b[0;34m,\u001b[0m \u001b[0msize\u001b[0m\u001b[0;34m=\u001b[0m\u001b[0;36m15\u001b[0m\u001b[0;34m)\u001b[0m\u001b[0;34m\u001b[0m\u001b[0m\n\u001b[0;32m----> 7\u001b[0;31m \u001b[0max\u001b[0m \u001b[0;34m=\u001b[0m \u001b[0my\u001b[0m\u001b[0;34m.\u001b[0m\u001b[0mset_index\u001b[0m\u001b[0;34m(\u001b[0m\u001b[0;34m\"Character\"\u001b[0m\u001b[0;34m)\u001b[0m\u001b[0;34m.\u001b[0m\u001b[0mloc\u001b[0m\u001b[0;34m[\u001b[0m\u001b[0mx\u001b[0m\u001b[0;34m]\u001b[0m\u001b[0;34m.\u001b[0m\u001b[0mplot\u001b[0m\u001b[0;34m(\u001b[0m\u001b[0mkind\u001b[0m\u001b[0;34m=\u001b[0m\u001b[0;34m\"bar\"\u001b[0m\u001b[0;34m,\u001b[0m \u001b[0mlegend\u001b[0m\u001b[0;34m=\u001b[0m\u001b[0;32mFalse\u001b[0m\u001b[0;34m)\u001b[0m\u001b[0;34m\u001b[0m\u001b[0m\n\u001b[0m\u001b[1;32m      8\u001b[0m \u001b[0max\u001b[0m\u001b[0;34m.\u001b[0m\u001b[0mset_ylabel\u001b[0m\u001b[0;34m(\u001b[0m\u001b[0;34m\"Entropy\"\u001b[0m\u001b[0;34m)\u001b[0m\u001b[0;34m\u001b[0m\u001b[0m\n\u001b[1;32m      9\u001b[0m \u001b[0;31m# plt.yticks(range(len(y)), y)\u001b[0m\u001b[0;34m\u001b[0m\u001b[0;34m\u001b[0m\u001b[0m\n",
      "\u001b[0;31mAttributeError\u001b[0m: 'list' object has no attribute 'set_index'"
     ]
    },
    {
     "data": {
      "image/png": "[encoded data removed]",
      "text/plain": [
       "<matplotlib.figure.Figure at 0x119c91eb8>"
      ]
     },
     "metadata": {},
     "output_type": "display_data"
    }
   ],
   "source": [
    "axes = plt.gca()\n",
    "axes.set_ylim([0.5,1.8])\n",
    "\n",
    "plt.errorbar(x, y, yerr=1.96*error, fmt='o', capsize=4, color= 'tomato')\n",
    "plt.xlabel('Character', size=15)\n",
    "plt.ylabel('Entropy', size=15)\n",
    "ax = y.set_index(\"Character\").loc[x].plot(kind=\"bar\", legend=False)\n",
    "ax.set_ylabel(\"Entropy\")\n",
    "# plt.yticks(range(len(y)), y)\n",
    "# plt.savefig('shawshank_character_entropy_ordered.png')\n",
    "plt.show()"
   ]
  },
  {
   "cell_type": "code",
   "execution_count": 65,
   "metadata": {},
   "outputs": [
    {
     "data": {
      "image/png": "[encoded data removed]",
      "text/plain": [
       "<matplotlib.figure.Figure at 0x1198a07b8>"
      ]
     },
     "metadata": {},
     "output_type": "display_data"
    }
   ],
   "source": [
    "axes = plt.gca()\n",
    "axes.set_ylim([0.5,1.8])\n",
    "\n",
    "x = np.array(['Red', 'Norton', 'Heywood', 'Tommy', 'DA','Bogs', 'Brooks', 'Skeet'])\n",
    "y = np.array([1.189740519,0.848361823,1.636059322,1.026463944,1.319936042,1.539851181,1.527549508,0.979018094])\n",
    "error = np.array([0.021863146,0.033749479,0.029958328,0.060970289,0.031086376,0.042651128,0.065093577,0.090626645])\n",
    "\n",
    "plt.errorbar(x, y, yerr=1.96*error, fmt='o', capsize=4, color= 'tomato')\n",
    "plt.xlabel('Character', size=15)\n",
    "plt.ylabel('Entropy', size=15)\n",
    "\n",
    "plt.xticks(range(len(x)), x)\n",
    "\n",
    "plt.show()"
   ]
  },
  {
   "cell_type": "code",
   "execution_count": 58,
   "metadata": {},
   "outputs": [
    {
     "name": "stdout",
     "output_type": "stream",
     "text": [
      "2.1.2\n"
     ]
    }
   ],
   "source": [
    "import matplotlib\n",
    "print(matplotlib.__version__)"
   ]
  },
  {
   "cell_type": "code",
   "execution_count": 59,
   "metadata": {},
   "outputs": [
    {
     "name": "stdout",
     "output_type": "stream",
     "text": [
      "Requirement already up-to-date: matplotlib in /Users/sohee/anaconda3/lib/python3.6/site-packages (3.0.2)\n",
      "Requirement already satisfied, skipping upgrade: numpy>=1.10.0 in /Users/sohee/anaconda3/lib/python3.6/site-packages (from matplotlib) (1.14.5)\n",
      "Requirement already satisfied, skipping upgrade: pyparsing!=2.0.4,!=2.1.2,!=2.1.6,>=2.0.1 in /Users/sohee/anaconda3/lib/python3.6/site-packages (from matplotlib) (2.2.0)\n",
      "Requirement already satisfied, skipping upgrade: python-dateutil>=2.1 in /Users/sohee/anaconda3/lib/python3.6/site-packages (from matplotlib) (2.6.1)\n",
      "Requirement already satisfied, skipping upgrade: kiwisolver>=1.0.1 in /Users/sohee/anaconda3/lib/python3.6/site-packages (from matplotlib) (1.0.1)\n",
      "Requirement already satisfied, skipping upgrade: cycler>=0.10 in /Users/sohee/anaconda3/lib/python3.6/site-packages (from matplotlib) (0.10.0)\n",
      "Requirement already satisfied, skipping upgrade: six>=1.5 in /Users/sohee/anaconda3/lib/python3.6/site-packages (from python-dateutil>=2.1->matplotlib) (1.11.0)\n",
      "Requirement already satisfied, skipping upgrade: setuptools in /Users/sohee/anaconda3/lib/python3.6/site-packages (from kiwisolver>=1.0.1->matplotlib) (38.4.0)\n",
      "\u001b[33mYou are using pip version 18.0, however version 18.1 is available.\n",
      "You should consider upgrading via the 'pip install --upgrade pip' command.\u001b[0m\n"
     ]
    }
   ],
   "source": [
    "!pip install -U matplotlib"
   ]
  },
  {
   "cell_type": "code",
   "execution_count": 60,
   "metadata": {},
   "outputs": [
    {
     "name": "stdout",
     "output_type": "stream",
     "text": [
      "2.1.2\n"
     ]
    }
   ],
   "source": [
    "import matplotlib\n",
    "print(matplotlib.__version__)"
   ]
  },
  {
   "cell_type": "code",
   "execution_count": 61,
   "metadata": {
    "scrolled": true
   },
   "outputs": [
    {
     "name": "stdout",
     "output_type": "stream",
     "text": [
      "Solving environment: done\n",
      "\n",
      "\n",
      "==> WARNING: A newer version of conda exists. <==\n",
      "  current version: 4.4.10\n",
      "  latest version: 4.5.12\n",
      "\n",
      "Please update conda by running\n",
      "\n",
      "    $ conda update -n base conda\n",
      "\n",
      "\n",
      "\n",
      "## Package Plan ##\n",
      "\n",
      "  environment location: /Users/sohee/anaconda3\n",
      "\n",
      "  added / updated specs: \n",
      "    - matplotlib\n",
      "\n",
      "\n",
      "The following packages will be downloaded:\n",
      "\n",
      "    package                    |            build\n",
      "    ---------------------------|-----------------\n",
      "    freetype-2.9.1             |       hb4e5f40_0         864 KB\n",
      "    certifi-2018.11.29         |           py36_0         146 KB\n",
      "    libpng-1.6.35              |       ha441bb4_0         318 KB\n",
      "    pillow-5.2.0               |   py36hb68e598_0         543 KB\n",
      "    matplotlib-3.0.2           |   py36h54f8f79_0         6.5 MB\n",
      "    kiwisolver-1.0.1           |   py36h0a44026_0          56 KB\n",
      "    ------------------------------------------------------------\n",
      "                                           Total:         8.4 MB\n",
      "\n",
      "The following NEW packages will be INSTALLED:\n",
      "\n",
      "    kiwisolver: 1.0.1-py36h0a44026_0\n",
      "\n",
      "The following packages will be UPDATED:\n",
      "\n",
      "    certifi:    2018.10.15-py36_0    --> 2018.11.29-py36_0   \n",
      "    freetype:   2.8-h12048fb_1       --> 2.9.1-hb4e5f40_0    \n",
      "    libpng:     1.6.34-he12f830_0    --> 1.6.35-ha441bb4_0   \n",
      "    matplotlib: 2.1.2-py36h6d6146d_0 --> 3.0.2-py36h54f8f79_0\n",
      "    pillow:     5.0.0-py36hfcce615_0 --> 5.2.0-py36hb68e598_0\n",
      "\n",
      "\n",
      "Downloading and Extracting Packages\n",
      "freetype 2.9.1: ######################################################## | 100% \n",
      "certifi 2018.11.29: #################################################### | 100% \n",
      "libpng 1.6.35: ######################################################### | 100% \n",
      "pillow 5.2.0: ########################################################## | 100% \n",
      "matplotlib 3.0.2: ###################################################### | 100% \n",
      "kiwisolver 1.0.1: ###################################################### | 100% \n",
      "Preparing transaction: done\n",
      "Verifying transaction: done\n",
      "Executing transaction: done\n"
     ]
    }
   ],
   "source": [
    "!conda install --yes matplotlib"
   ]
  },
  {
   "cell_type": "code",
   "execution_count": 63,
   "metadata": {},
   "outputs": [
    {
     "name": "stdout",
     "output_type": "stream",
     "text": [
      "2.1.2\n"
     ]
    }
   ],
   "source": [
    "\n",
    "print(matplotlib.__version__)"
   ]
  },
  {
   "cell_type": "code",
   "execution_count": null,
   "metadata": {},
   "outputs": [],
   "source": []
  }
 ],
 "metadata": {
  "kernelspec": {
   "display_name": "Python [conda env:anaconda3]",
   "language": "python",
   "name": "conda-env-anaconda3-py"
  },
  "language_info": {
   "codemirror_mode": {
    "name": "ipython",
    "version": 3
   },
   "file_extension": ".py",
   "mimetype": "text/x-python",
   "name": "python",
   "nbconvert_exporter": "python",
   "pygments_lexer": "ipython3",
   "version": "3.6.4"
  },
  "varInspector": {
   "cols": {
    "lenName": 16,
    "lenType": 16,
    "lenVar": 40
   },
   "kernels_config": {
    "python": {
     "delete_cmd_postfix": "",
     "delete_cmd_prefix": "del ",
     "library": "var_list.py",
     "varRefreshCmd": "print(var_dic_list())"
    },
    "r": {
     "delete_cmd_postfix": ") ",
     "delete_cmd_prefix": "rm(",
     "library": "var_list.r",
     "varRefreshCmd": "cat(var_dic_list()) "
    }
   },
   "position": {
    "height": "248px",
    "left": "1379px",
    "right": "20px",
    "top": "93px",
    "width": "349px"
   },
   "types_to_exclude": [
    "module",
    "function",
    "builtin_function_or_method",
    "instance",
    "_Feature"
   ],
   "window_display": true
  }
 },
 "nbformat": 4,
 "nbformat_minor": 2
}
